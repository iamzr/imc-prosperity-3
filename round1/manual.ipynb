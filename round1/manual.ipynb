{
 "cells": [
  {
   "cell_type": "code",
   "execution_count": 8,
   "metadata": {},
   "outputs": [
    {
     "name": "stdout",
     "output_type": "stream",
     "text": [
      "[[1.   1.45 0.52 0.72]\n",
      " [0.7  1.   0.31 0.48]\n",
      " [1.95 3.1  1.   1.49]\n",
      " [1.34 1.98 0.64 1.  ]]\n",
      "['Snowballs', \"Pizza's\", 'Silicon Nuggets', 'SeaShells']\n"
     ]
    }
   ],
   "source": [
    "import numpy as np\n",
    "\n",
    "names = [\"Snowballs\", \"Pizza's\", \"Silicon Nuggets\", \"SeaShells\"]\n",
    "A = np.array([\n",
    "    [1, 1.45, 0.52, 0.72],\n",
    "    [0.7, 1, 0.31, 0.48],\n",
    "    [1.95, 3.1, 1, 1.49],\n",
    "    [1.34, 1.98, 0.64, 1]\n",
    "])\n",
    "print(A)\n",
    "print(names)"
   ]
  },
  {
   "cell_type": "code",
   "execution_count": 7,
   "metadata": {},
   "outputs": [
    {
     "name": "stdout",
     "output_type": "stream",
     "text": [
      "Best profit: 1.08868032\n",
      "Best trades: [3, 0, 2, 1, 0, 3]\n"
     ]
    }
   ],
   "source": [
    "best_profit = 0\n",
    "for a in range(4):\n",
    "    for b in range(4):\n",
    "        for c in range(4):\n",
    "            for d in range(4):\n",
    "                profit = A[3, a] * A[a, b] * A[b, c] * A[c, d] * A[d, 3]\n",
    "                if profit > best_profit:\n",
    "                    best_profit = profit\n",
    "                    best_trades = [3, a, b, c, d, 3]\n",
    "print(f\"Best profit: {best_profit}\")\n",
    "print(f\"Best trades: {best_trades}\")"
   ]
  },
  {
   "cell_type": "code",
   "execution_count": 9,
   "metadata": {},
   "outputs": [
    {
     "name": "stdout",
     "output_type": "stream",
     "text": [
      "SeaShells -> Snowballs\n",
      "Snowballs -> Silicon Nuggets\n",
      "Silicon Nuggets -> Pizza's\n",
      "Pizza's -> Snowballs\n",
      "Snowballs -> SeaShells\n"
     ]
    }
   ],
   "source": [
    "for i in range(len(best_trades) - 1):\n",
    "    print(f\"{names[best_trades[i]]} -> {names[best_trades[i + 1]]}\")"
   ]
  }
 ],
 "metadata": {
  "kernelspec": {
   "display_name": "py312",
   "language": "python",
   "name": "python3"
  },
  "language_info": {
   "codemirror_mode": {
    "name": "ipython",
    "version": 3
   },
   "file_extension": ".py",
   "mimetype": "text/x-python",
   "name": "python",
   "nbconvert_exporter": "python",
   "pygments_lexer": "ipython3",
   "version": "3.12.9"
  }
 },
 "nbformat": 4,
 "nbformat_minor": 2
}
