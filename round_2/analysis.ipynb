{
 "cells": [
  {
   "cell_type": "code",
   "execution_count": 3,
   "id": "d0426300",
   "metadata": {},
   "outputs": [],
   "source": [
    "import numpy as np\n",
    "import matplotlib.pyplot as plt\n",
    "import pandas as pd"
   ]
  },
  {
   "cell_type": "code",
   "execution_count": 4,
   "id": "3f35d388",
   "metadata": {},
   "outputs": [],
   "source": [
    "import pandas as pd\n",
    "import numpy as np\n",
    "\n",
    "def calculate_realized_volatility_100ms(price_data, annualization_factor=None):\n",
    "    \"\"\"\n",
    "    Calculates the annualized realized volatility from 100ms frequency price data.\n",
    "\n",
    "    Args:\n",
    "        price_data (pd.Series or pd.DataFrame): A pandas Series or DataFrame\n",
    "            containing the 100ms frequency price data. If it's a DataFrame, it\n",
    "            should have a column named 'Price' or a single column of prices. The\n",
    "            index should be datetime.\n",
    "        annualization_factor (int, optional): The number of 100ms periods in a year\n",
    "            based on the typical trading hours and days. If None, a default\n",
    "            will be estimated (assuming 24 hours/day and 252 trading days/year).\n",
    "\n",
    "    Returns:\n",
    "        float: The annualized realized volatility based on the entire input data.\n",
    "    \"\"\"\n",
    "    if isinstance(price_data, pd.DataFrame):\n",
    "        if 'Price' in price_data.columns:\n",
    "            prices = price_data['Price']\n",
    "        elif len(price_data.columns) == 1:\n",
    "            prices = price_data.iloc[:, 0]\n",
    "        else:\n",
    "            raise ValueError(\"DataFrame must have a 'Price' column or a single column of prices.\")\n",
    "    elif isinstance(price_data, pd.Series):\n",
    "        prices = price_data\n",
    "    else:\n",
    "        raise ValueError(\"price_data must be a pandas Series or DataFrame.\")\n",
    "\n",
    "    # Calculate high-frequency logarithmic returns\n",
    "    log_returns = np.log(prices / prices.shift(1)).dropna()\n",
    "\n",
    "    # Estimate annualization factor if not provided\n",
    "    if annualization_factor is None:\n",
    "        # 1 second = 10 * 100ms\n",
    "        seconds_in_minute = 60\n",
    "        minutes_in_hour = 60\n",
    "        hours_in_day = 24\n",
    "        trading_days_in_year = 252\n",
    "\n",
    "        periods_per_second = 10  # 100ms frequency\n",
    "        periods_per_minute = periods_per_second * seconds_in_minute\n",
    "        periods_per_hour = periods_per_minute * minutes_in_hour\n",
    "        periods_per_day = periods_per_hour * hours_in_day\n",
    "        annualization_factor = periods_per_day * trading_days_in_year\n",
    "\n",
    "    # Calculate realized variance and then realized volatility\n",
    "    realized_variance = np.sum(log_returns**2) * annualization_factor\n",
    "    realized_volatility = np.sqrt(realized_variance)\n",
    "\n",
    "    return realized_volatility\n",
    "\n",
    "# Example usage:\n",
    "# Assuming you have your 100ms price data in a pandas DataFrame called 'hf_100ms_df'\n",
    "# with a column named 'Price' and the index is datetime.\n",
    "\n",
    "# Create a sample 100ms DataFrame (replace with your actual data)\n",
    "# time_index_100ms = pd.to_datetime(['2025-04-09 09:00:00.000', '2025-04-09 09:00:00.100',\n",
    "#                                    '2025-04-09 09:00:00.200', '2025-04-09 09:00:00.300',\n",
    "#                                    '2025-04-11 16:00:00.000', '2025-04-11 16:00:00.100',\n",
    "#                                    '2025-04-11 16:00:00.200'])\n",
    "# data_100ms = {'Price': [100.0000, 100.0001, 100.0002, 100.0001, 100.0005, 100.0004, 100.0006]}\n",
    "# hf_100ms_df = pd.DataFrame(data_100ms, index=time_index_100ms)\n",
    "\n",
    "# Calculate the annualized realized volatility for 100ms data\n",
    "# realized_vol_100ms = calculate_realized_volatility_100ms(hf_100ms_df['Price'])\n",
    "# print(f\"Annualized Realized Volatility (100ms): {realized_vol_100ms:.4f}\")\n",
    "\n",
    "# You can also provide a custom annualization factor if your trading schedule differs\n",
    "# Example: If you only trade for 8 hours a day\n",
    "# periods_per_second = 10\n",
    "# seconds_in_minute = 60\n",
    "# minutes_in_hour = 60\n",
    "# trading_hours_per_year = 252 * 8\n",
    "# custom_annualization_factor = periods_per_second * seconds_in_minute * minutes_in_hour * trading_hours_per_year\n",
    "# realized_vol_custom = calculate_realized_volatility_100ms(hf_100ms_df['Price'], annualization_factor=custom_annualization_factor)\n",
    "# print(f\"Annualized Realized Volatility (100ms, custom hours): {realized_vol_custom:.4f}\")"
   ]
  },
  {
   "cell_type": "code",
   "execution_count": 5,
   "id": "774b05c2",
   "metadata": {},
   "outputs": [
    {
     "name": "stdout",
     "output_type": "stream",
     "text": [
      "   index  day  timestamp         product  bid_price_1  bid_volume_1  \\\n",
      "0      0   -1          0      CROISSANTS         4304           112   \n",
      "1      1   -1          0            JAMS         6670            66   \n",
      "2      2   -1          0       SQUID_INK         2005             1   \n",
      "3      3   -1          0  PICNIC_BASKET1        59284            20   \n",
      "4      4   -1          0  PICNIC_BASKET2        30606            20   \n",
      "\n",
      "   bid_price_2  bid_volume_2  bid_price_3  bid_volume_3  ask_price_1  \\\n",
      "0          NaN           NaN          NaN           NaN         4305   \n",
      "1       6669.0         137.0          NaN           NaN         6671   \n",
      "2       2002.0          31.0          NaN           NaN         2006   \n",
      "3      59283.0          18.0          NaN           NaN        59294   \n",
      "4      30605.0          18.0          NaN           NaN        30612   \n",
      "\n",
      "   ask_volume_1  ask_price_2  ask_volume_2  ask_price_3  ask_volume_3  \\\n",
      "0           112          NaN           NaN          NaN           NaN   \n",
      "1            66       6672.0         137.0          NaN           NaN   \n",
      "2            31          NaN           NaN          NaN           NaN   \n",
      "3             2      59295.0          36.0          NaN           NaN   \n",
      "4            20      30613.0          18.0          NaN           NaN   \n",
      "\n",
      "   mid_price  profit_and_loss  \n",
      "0     4304.5              0.0  \n",
      "1     6670.5              0.0  \n",
      "2     2005.5              0.0  \n",
      "3    59289.0              0.0  \n",
      "4    30609.0              0.0  \n"
     ]
    }
   ],
   "source": [
    "day_m1 = pd.read_csv('data/prices_round_2_day_-1.csv', delimiter=\";\")\n",
    "day_0 = pd.read_csv('data/prices_round_2_day_0.csv', delimiter=\";\")\n",
    "day_p1 = pd.read_csv('data/prices_round_2_day_1.csv', delimiter=\";\")\n",
    "\n",
    "df = pd.concat([day_m1, day_0, day_p1]).reset_index()\n",
    "print(df.head())"
   ]
  },
  {
   "cell_type": "code",
   "execution_count": null,
   "id": "43a866a6",
   "metadata": {},
   "outputs": [
    {
     "name": "stdout",
     "output_type": "stream",
     "text": [
      "Annualized Realized Volatility (100ms): 201.6605\n"
     ]
    }
   ],
   "source": [
    "jams = df[df['product'] == 'JAMS']\n",
    "djembes = df[df['product'] == 'DJEMBES']\n",
    "\n",
    "realized_vol_100ms = calculate_realized_volatility_100ms(jams['mid_price'])\n",
    "print(f\"Annualized Realized Volatility (100ms): {realized_vol_100ms:.4f}\")"
   ]
  }
 ],
 "metadata": {
  "kernelspec": {
   "display_name": "py312",
   "language": "python",
   "name": "python3"
  },
  "language_info": {
   "codemirror_mode": {
    "name": "ipython",
    "version": 3
   },
   "file_extension": ".py",
   "mimetype": "text/x-python",
   "name": "python",
   "nbconvert_exporter": "python",
   "pygments_lexer": "ipython3",
   "version": "3.12.9"
  }
 },
 "nbformat": 4,
 "nbformat_minor": 5
}
