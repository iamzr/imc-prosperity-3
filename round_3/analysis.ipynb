{
 "cells": [
  {
   "cell_type": "code",
   "execution_count": 5,
   "metadata": {},
   "outputs": [],
   "source": [
    "from datahandler import DataHandler\n",
    "from trader import Products"
   ]
  },
  {
   "cell_type": "code",
   "execution_count": 19,
   "metadata": {},
   "outputs": [],
   "source": [
    "products = [Products.VOLCANIC_ROCK, Products.VOLCANIC_ROCK_VOUCHER_9500, Products.VOLCANIC_ROCK_VOUCHER_9750, Products.VOLCANIC_ROCK_VOUCHER_10000, Products.VOLCANIC_ROCK_VOUCHER_10250, Products.VOLCANIC_ROCK_VOUCHER_10500]"
   ]
  },
  {
   "cell_type": "code",
   "execution_count": 6,
   "metadata": {},
   "outputs": [
    {
     "name": "stdout",
     "output_type": "stream",
     "text": [
      "   day  timestamp                      product  bid_price_1  bid_volume_1  \\\n",
      "0    0          0  VOLCANIC_ROCK_VOUCHER_10500         99.0          19.0   \n",
      "1    0          0                      DJEMBES      13493.0          72.0   \n",
      "2    0          0                   CROISSANTS       4321.0         111.0   \n",
      "3    0          0                         JAMS       6631.0         210.0   \n",
      "4    0          0  VOLCANIC_ROCK_VOUCHER_10000        505.0          19.0   \n",
      "\n",
      "   bid_price_2  bid_volume_2  bid_price_3  bid_volume_3  ask_price_1  \\\n",
      "0          NaN           NaN          NaN           NaN          100   \n",
      "1          NaN           NaN          NaN           NaN        13494   \n",
      "2          NaN           NaN          NaN           NaN         4322   \n",
      "3          NaN           NaN          NaN           NaN         6633   \n",
      "4          NaN           NaN          NaN           NaN          506   \n",
      "\n",
      "   ask_volume_1  ask_price_2  ask_volume_2  ask_price_3  ask_volume_3  \\\n",
      "0            19          NaN           NaN          NaN           NaN   \n",
      "1            72          NaN           NaN          NaN           NaN   \n",
      "2           111          NaN           NaN          NaN           NaN   \n",
      "3           210          NaN           NaN          NaN           NaN   \n",
      "4            19          NaN           NaN          NaN           NaN   \n",
      "\n",
      "   mid_price  profit_and_loss    index  \n",
      "0       99.5              0.0  2000000  \n",
      "1    13493.5              0.0  2000000  \n",
      "2     4321.5              0.0  2000000  \n",
      "3     6632.0              0.0  2000000  \n",
      "4      505.5              0.0  2000000  \n"
     ]
    }
   ],
   "source": [
    "dh = DataHandler(\"/home/zr/code/imc-prosperity-3/.venv/lib/python3.12/site-packages/prosperity3bt/resources/round3\")\n",
    "dh.load_csv_files()\n",
    "df = dh.get_combined_dataframes()\n",
    "print(df.head())\n",
    "\n",
    "\n",
    "data = {product: df[df['product'] == product] for product in products}"
   ]
  },
  {
   "cell_type": "code",
   "execution_count": 8,
   "metadata": {},
   "outputs": [],
   "source": [
    "assert len(data) == len(products)"
   ]
  },
  {
   "cell_type": "code",
   "execution_count": 9,
   "metadata": {},
   "outputs": [
    {
     "data": {
      "application/vnd.microsoft.datawrangler.viewer.v0+json": {
       "columns": [
        {
         "name": "index",
         "rawType": "int64",
         "type": "integer"
        },
        {
         "name": "day",
         "rawType": "int64",
         "type": "integer"
        },
        {
         "name": "timestamp",
         "rawType": "int64",
         "type": "integer"
        },
        {
         "name": "product",
         "rawType": "object",
         "type": "string"
        },
        {
         "name": "bid_price_1",
         "rawType": "float64",
         "type": "float"
        },
        {
         "name": "bid_volume_1",
         "rawType": "float64",
         "type": "float"
        },
        {
         "name": "bid_price_2",
         "rawType": "float64",
         "type": "float"
        },
        {
         "name": "bid_volume_2",
         "rawType": "float64",
         "type": "float"
        },
        {
         "name": "bid_price_3",
         "rawType": "float64",
         "type": "float"
        },
        {
         "name": "bid_volume_3",
         "rawType": "float64",
         "type": "float"
        },
        {
         "name": "ask_price_1",
         "rawType": "int64",
         "type": "integer"
        },
        {
         "name": "ask_volume_1",
         "rawType": "int64",
         "type": "integer"
        },
        {
         "name": "ask_price_2",
         "rawType": "float64",
         "type": "float"
        },
        {
         "name": "ask_volume_2",
         "rawType": "float64",
         "type": "float"
        },
        {
         "name": "ask_price_3",
         "rawType": "float64",
         "type": "float"
        },
        {
         "name": "ask_volume_3",
         "rawType": "float64",
         "type": "float"
        },
        {
         "name": "mid_price",
         "rawType": "float64",
         "type": "float"
        },
        {
         "name": "profit_and_loss",
         "rawType": "float64",
         "type": "float"
        },
        {
         "name": "index",
         "rawType": "int64",
         "type": "integer"
        }
       ],
       "conversionMethod": "pd.DataFrame",
       "ref": "e089e39d-ea88-4f54-bf57-9cc24a7170b7",
       "rows": [
        [
         "13",
         "0",
         "0",
         "VOLCANIC_ROCK",
         "10502.0",
         "205.0",
         null,
         null,
         null,
         null,
         "10504",
         "146",
         "10505.0",
         "59.0",
         null,
         null,
         "10503.0",
         "0.0",
         "2000000"
        ],
        [
         "21",
         "0",
         "100",
         "VOLCANIC_ROCK",
         "10509.0",
         "192.0",
         null,
         null,
         null,
         null,
         "10511",
         "122",
         "10512.0",
         "70.0",
         null,
         null,
         "10510.0",
         "0.0",
         "2000100"
        ],
        [
         "31",
         "0",
         "200",
         "VOLCANIC_ROCK",
         "10512.0",
         "167.0",
         null,
         null,
         null,
         null,
         "10514",
         "109",
         "10515.0",
         "58.0",
         null,
         null,
         "10513.0",
         "0.0",
         "2000200"
        ],
        [
         "55",
         "0",
         "300",
         "VOLCANIC_ROCK",
         "10517.0",
         "118.0",
         "10516.0",
         "68.0",
         null,
         null,
         "10518",
         "118",
         "10519.0",
         "68.0",
         null,
         null,
         "10517.5",
         "0.0",
         "2000300"
        ],
        [
         "60",
         "0",
         "400",
         "VOLCANIC_ROCK",
         "10509.0",
         "128.0",
         "10508.0",
         "73.0",
         null,
         null,
         "10510",
         "128",
         "10511.0",
         "73.0",
         null,
         null,
         "10509.5",
         "0.0",
         "2000400"
        ],
        [
         "81",
         "0",
         "500",
         "VOLCANIC_ROCK",
         "10505.0",
         "168.0",
         null,
         null,
         null,
         null,
         "10507",
         "115",
         "10508.0",
         "53.0",
         null,
         null,
         "10506.0",
         "0.0",
         "2000500"
        ],
        [
         "86",
         "0",
         "600",
         "VOLCANIC_ROCK",
         "10503.0",
         "150.0",
         "10502.0",
         "62.0",
         null,
         null,
         "10504",
         "150",
         "10505.0",
         "62.0",
         null,
         null,
         "10503.5",
         "0.0",
         "2000600"
        ],
        [
         "108",
         "0",
         "700",
         "VOLCANIC_ROCK",
         "10502.0",
         "114.0",
         "10501.0",
         "44.0",
         null,
         null,
         "10504",
         "158",
         null,
         null,
         null,
         null,
         "10503.0",
         "0.0",
         "2000700"
        ],
        [
         "112",
         "0",
         "800",
         "VOLCANIC_ROCK",
         "10497.0",
         "137.0",
         "10496.0",
         "67.0",
         null,
         null,
         "10498",
         "137",
         "10499.0",
         "67.0",
         null,
         null,
         "10497.5",
         "0.0",
         "2000800"
        ],
        [
         "130",
         "0",
         "900",
         "VOLCANIC_ROCK",
         "10495.0",
         "121.0",
         "10494.0",
         "63.0",
         null,
         null,
         "10496",
         "121",
         "10497.0",
         "63.0",
         null,
         null,
         "10495.5",
         "0.0",
         "2000900"
        ],
        [
         "147",
         "0",
         "1000",
         "VOLCANIC_ROCK",
         "10498.0",
         "147.0",
         "10497.0",
         "72.0",
         null,
         null,
         "10500",
         "140",
         "10501.0",
         "72.0",
         null,
         null,
         "10499.0",
         "0.0",
         "2001000"
        ],
        [
         "159",
         "0",
         "1100",
         "VOLCANIC_ROCK",
         "10500.0",
         "205.0",
         null,
         null,
         null,
         null,
         "10502",
         "125",
         "10503.0",
         "80.0",
         null,
         null,
         "10501.0",
         "0.0",
         "2001100"
        ],
        [
         "172",
         "0",
         "1200",
         "VOLCANIC_ROCK",
         "10504.0",
         "107.0",
         "10503.0",
         "62.0",
         null,
         null,
         "10505",
         "107",
         "10506.0",
         "62.0",
         null,
         null,
         "10504.5",
         "0.0",
         "2001200"
        ],
        [
         "193",
         "0",
         "1300",
         "VOLCANIC_ROCK",
         "10509.0",
         "106.0",
         "10508.0",
         "43.0",
         null,
         null,
         "10511",
         "149",
         null,
         null,
         null,
         null,
         "10510.0",
         "0.0",
         "2001300"
        ],
        [
         "198",
         "0",
         "1400",
         "VOLCANIC_ROCK",
         "10509.0",
         "116.0",
         "10508.0",
         "66.0",
         null,
         null,
         "10511",
         "182",
         null,
         null,
         null,
         null,
         "10510.0",
         "0.0",
         "2001400"
        ],
        [
         "221",
         "0",
         "1500",
         "VOLCANIC_ROCK",
         "10504.0",
         "132.0",
         "10503.0",
         "73.0",
         null,
         null,
         "10505",
         "132",
         "10506.0",
         "73.0",
         null,
         null,
         "10504.5",
         "0.0",
         "2001500"
        ],
        [
         "225",
         "0",
         "1600",
         "VOLCANIC_ROCK",
         "10504.0",
         "105.0",
         "10503.0",
         "63.0",
         null,
         null,
         "10505",
         "105",
         "10506.0",
         "63.0",
         null,
         null,
         "10504.5",
         "0.0",
         "2001600"
        ],
        [
         "244",
         "0",
         "1700",
         "VOLCANIC_ROCK",
         "10498.0",
         "219.0",
         null,
         null,
         null,
         null,
         "10500",
         "146",
         "10501.0",
         "73.0",
         null,
         null,
         "10499.0",
         "0.0",
         "2001700"
        ],
        [
         "261",
         "0",
         "1800",
         "VOLCANIC_ROCK",
         "10497.0",
         "139.0",
         "10496.0",
         "52.0",
         null,
         null,
         "10498",
         "139",
         "10499.0",
         "52.0",
         null,
         null,
         "10497.5",
         "0.0",
         "2001800"
        ],
        [
         "272",
         "0",
         "1900",
         "VOLCANIC_ROCK",
         "10493.0",
         "117.0",
         "10492.0",
         "47.0",
         null,
         null,
         "10494",
         "117",
         "10495.0",
         "47.0",
         null,
         null,
         "10493.5",
         "0.0",
         "2001900"
        ],
        [
         "285",
         "0",
         "2000",
         "VOLCANIC_ROCK",
         "10492.0",
         "107.0",
         "10491.0",
         "78.0",
         null,
         null,
         "10494",
         "185",
         null,
         null,
         null,
         null,
         "10493.0",
         "0.0",
         "2002000"
        ],
        [
         "307",
         "0",
         "2100",
         "VOLCANIC_ROCK",
         "10488.0",
         "107.0",
         "10487.0",
         "68.0",
         null,
         null,
         "10489",
         "107",
         "10490.0",
         "68.0",
         null,
         null,
         "10488.5",
         "0.0",
         "2002100"
        ],
        [
         "313",
         "0",
         "2200",
         "VOLCANIC_ROCK",
         "10485.0",
         "137.0",
         "10484.0",
         "44.0",
         null,
         null,
         "10486",
         "137",
         "10487.0",
         "44.0",
         null,
         null,
         "10485.5",
         "0.0",
         "2002200"
        ],
        [
         "332",
         "0",
         "2300",
         "VOLCANIC_ROCK",
         "10491.0",
         "108.0",
         "10490.0",
         "54.0",
         null,
         null,
         "10492",
         "108",
         "10493.0",
         "54.0",
         null,
         null,
         "10491.5",
         "0.0",
         "2002300"
        ],
        [
         "337",
         "0",
         "2400",
         "VOLCANIC_ROCK",
         "10485.0",
         "194.0",
         null,
         null,
         null,
         null,
         "10487",
         "115",
         "10488.0",
         "79.0",
         null,
         null,
         "10486.0",
         "0.0",
         "2002400"
        ],
        [
         "356",
         "0",
         "2500",
         "VOLCANIC_ROCK",
         "10480.0",
         "104.0",
         "10479.0",
         "50.0",
         null,
         null,
         "10481",
         "104",
         "10482.0",
         "50.0",
         null,
         null,
         "10480.5",
         "0.0",
         "2002500"
        ],
        [
         "376",
         "0",
         "2600",
         "VOLCANIC_ROCK",
         "10474.0",
         "102.0",
         "10473.0",
         "66.0",
         null,
         null,
         "10476",
         "102",
         "10477.0",
         "66.0",
         null,
         null,
         "10475.0",
         "0.0",
         "2002600"
        ],
        [
         "381",
         "0",
         "2700",
         "VOLCANIC_ROCK",
         "10464.0",
         "139.0",
         "10463.0",
         "77.0",
         null,
         null,
         "10465",
         "139",
         "10466.0",
         "77.0",
         null,
         null,
         "10464.5",
         "0.0",
         "2002700"
        ],
        [
         "399",
         "0",
         "2800",
         "VOLCANIC_ROCK",
         "10472.0",
         "94.0",
         "10471.0",
         "77.0",
         null,
         null,
         "10473",
         "102",
         "10474.0",
         "77.0",
         null,
         null,
         "10472.5",
         "0.0",
         "2002800"
        ],
        [
         "419",
         "0",
         "2900",
         "VOLCANIC_ROCK",
         "10472.0",
         "105.0",
         "10471.0",
         "65.0",
         null,
         null,
         "10474",
         "105",
         "10475.0",
         "65.0",
         null,
         null,
         "10473.0",
         "0.0",
         "2002900"
        ],
        [
         "428",
         "0",
         "3000",
         "VOLCANIC_ROCK",
         "10478.0",
         "130.0",
         "10477.0",
         "59.0",
         null,
         null,
         "10479",
         "130",
         "10480.0",
         "59.0",
         null,
         null,
         "10478.5",
         "0.0",
         "2003000"
        ],
        [
         "443",
         "0",
         "3100",
         "VOLCANIC_ROCK",
         "10473.0",
         "133.0",
         "10472.0",
         "75.0",
         null,
         null,
         "10474",
         "133",
         "10475.0",
         "75.0",
         null,
         null,
         "10473.5",
         "0.0",
         "2003100"
        ],
        [
         "450",
         "0",
         "3200",
         "VOLCANIC_ROCK",
         "10478.0",
         "182.0",
         null,
         null,
         null,
         null,
         "10480",
         "140",
         "10481.0",
         "42.0",
         null,
         null,
         "10479.0",
         "0.0",
         "2003200"
        ],
        [
         "469",
         "0",
         "3300",
         "VOLCANIC_ROCK",
         "10479.0",
         "106.0",
         "10478.0",
         "68.0",
         null,
         null,
         "10480",
         "106",
         "10481.0",
         "68.0",
         null,
         null,
         "10479.5",
         "0.0",
         "2003300"
        ],
        [
         "488",
         "0",
         "3400",
         "VOLCANIC_ROCK",
         "10479.0",
         "152.0",
         null,
         null,
         null,
         null,
         "10481",
         "112",
         "10482.0",
         "40.0",
         null,
         null,
         "10480.0",
         "0.0",
         "2003400"
        ],
        [
         "493",
         "0",
         "3500",
         "VOLCANIC_ROCK",
         "10488.0",
         "130.0",
         "10487.0",
         "49.0",
         null,
         null,
         "10490",
         "179",
         null,
         null,
         null,
         null,
         "10489.0",
         "0.0",
         "2003500"
        ],
        [
         "511",
         "0",
         "3600",
         "VOLCANIC_ROCK",
         "10483.0",
         "148.0",
         "10482.0",
         "54.0",
         null,
         null,
         "10485",
         "148",
         "10486.0",
         "54.0",
         null,
         null,
         "10484.0",
         "0.0",
         "2003600"
        ],
        [
         "531",
         "0",
         "3700",
         "VOLCANIC_ROCK",
         "10482.0",
         "106.0",
         "10481.0",
         "64.0",
         null,
         null,
         "10484",
         "170",
         null,
         null,
         null,
         null,
         "10483.0",
         "0.0",
         "2003700"
        ],
        [
         "539",
         "0",
         "3800",
         "VOLCANIC_ROCK",
         "10483.0",
         "136.0",
         "10482.0",
         "72.0",
         null,
         null,
         "10484",
         "136",
         "10485.0",
         "72.0",
         null,
         null,
         "10483.5",
         "0.0",
         "2003800"
        ],
        [
         "554",
         "0",
         "3900",
         "VOLCANIC_ROCK",
         "10481.0",
         "129.0",
         "10480.0",
         "69.0",
         null,
         null,
         "10483",
         "198",
         null,
         null,
         null,
         null,
         "10482.0",
         "0.0",
         "2003900"
        ],
        [
         "561",
         "0",
         "4000",
         "VOLCANIC_ROCK",
         "10475.0",
         "121.0",
         "10474.0",
         "48.0",
         null,
         null,
         "10476",
         "121",
         "10477.0",
         "48.0",
         null,
         null,
         "10475.5",
         "0.0",
         "2004000"
        ],
        [
         "581",
         "0",
         "4100",
         "VOLCANIC_ROCK",
         "10472.0",
         "138.0",
         "10471.0",
         "56.0",
         null,
         null,
         "10473",
         "138",
         "10474.0",
         "56.0",
         null,
         null,
         "10472.5",
         "0.0",
         "2004100"
        ],
        [
         "599",
         "0",
         "4200",
         "VOLCANIC_ROCK",
         "10466.0",
         "147.0",
         "10465.0",
         "76.0",
         null,
         null,
         "10467",
         "147",
         "10468.0",
         "76.0",
         null,
         null,
         "10466.5",
         "0.0",
         "2004200"
        ],
        [
         "604",
         "0",
         "4300",
         "VOLCANIC_ROCK",
         "10464.0",
         "135.0",
         "10463.0",
         "66.0",
         null,
         null,
         "10465",
         "135",
         "10466.0",
         "66.0",
         null,
         null,
         "10464.5",
         "0.0",
         "2004300"
        ],
        [
         "622",
         "0",
         "4400",
         "VOLCANIC_ROCK",
         "10458.0",
         "107.0",
         "10457.0",
         "43.0",
         null,
         null,
         "10459",
         "107",
         "10460.0",
         "43.0",
         null,
         null,
         "10458.5",
         "0.0",
         "2004400"
        ],
        [
         "643",
         "0",
         "4500",
         "VOLCANIC_ROCK",
         "10457.0",
         "125.0",
         "10456.0",
         "53.0",
         null,
         null,
         "10459",
         "178",
         null,
         null,
         null,
         null,
         "10458.0",
         "0.0",
         "2004500"
        ],
        [
         "651",
         "0",
         "4600",
         "VOLCANIC_ROCK",
         "10451.0",
         "125.0",
         "10450.0",
         "52.0",
         null,
         null,
         "10452",
         "125",
         "10453.0",
         "52.0",
         null,
         null,
         "10451.5",
         "0.0",
         "2004600"
        ],
        [
         "666",
         "0",
         "4700",
         "VOLCANIC_ROCK",
         "10457.0",
         "124.0",
         "10456.0",
         "41.0",
         null,
         null,
         "10458",
         "124",
         "10459.0",
         "41.0",
         null,
         null,
         "10457.5",
         "0.0",
         "2004700"
        ],
        [
         "672",
         "0",
         "4800",
         "VOLCANIC_ROCK",
         "10463.0",
         "111.0",
         "10462.0",
         "57.0",
         null,
         null,
         "10465",
         "168",
         null,
         null,
         null,
         null,
         "10464.0",
         "0.0",
         "2004800"
        ],
        [
         "691",
         "0",
         "4900",
         "VOLCANIC_ROCK",
         "10464.0",
         "109.0",
         "10463.0",
         "71.0",
         null,
         null,
         "10465",
         "119",
         "10466.0",
         "71.0",
         null,
         null,
         "10464.5",
         "0.0",
         "2004900"
        ]
       ],
       "shape": {
        "columns": 18,
        "rows": 60000
       }
      },
      "text/html": [
       "<div>\n",
       "<style scoped>\n",
       "    .dataframe tbody tr th:only-of-type {\n",
       "        vertical-align: middle;\n",
       "    }\n",
       "\n",
       "    .dataframe tbody tr th {\n",
       "        vertical-align: top;\n",
       "    }\n",
       "\n",
       "    .dataframe thead th {\n",
       "        text-align: right;\n",
       "    }\n",
       "</style>\n",
       "<table border=\"1\" class=\"dataframe\">\n",
       "  <thead>\n",
       "    <tr style=\"text-align: right;\">\n",
       "      <th></th>\n",
       "      <th>day</th>\n",
       "      <th>timestamp</th>\n",
       "      <th>product</th>\n",
       "      <th>bid_price_1</th>\n",
       "      <th>bid_volume_1</th>\n",
       "      <th>bid_price_2</th>\n",
       "      <th>bid_volume_2</th>\n",
       "      <th>bid_price_3</th>\n",
       "      <th>bid_volume_3</th>\n",
       "      <th>ask_price_1</th>\n",
       "      <th>ask_volume_1</th>\n",
       "      <th>ask_price_2</th>\n",
       "      <th>ask_volume_2</th>\n",
       "      <th>ask_price_3</th>\n",
       "      <th>ask_volume_3</th>\n",
       "      <th>mid_price</th>\n",
       "      <th>profit_and_loss</th>\n",
       "      <th>index</th>\n",
       "    </tr>\n",
       "  </thead>\n",
       "  <tbody>\n",
       "    <tr>\n",
       "      <th>13</th>\n",
       "      <td>0</td>\n",
       "      <td>0</td>\n",
       "      <td>VOLCANIC_ROCK</td>\n",
       "      <td>10502.0</td>\n",
       "      <td>205.0</td>\n",
       "      <td>NaN</td>\n",
       "      <td>NaN</td>\n",
       "      <td>NaN</td>\n",
       "      <td>NaN</td>\n",
       "      <td>10504</td>\n",
       "      <td>146</td>\n",
       "      <td>10505.0</td>\n",
       "      <td>59.0</td>\n",
       "      <td>NaN</td>\n",
       "      <td>NaN</td>\n",
       "      <td>10503.0</td>\n",
       "      <td>0.0</td>\n",
       "      <td>2000000</td>\n",
       "    </tr>\n",
       "    <tr>\n",
       "      <th>21</th>\n",
       "      <td>0</td>\n",
       "      <td>100</td>\n",
       "      <td>VOLCANIC_ROCK</td>\n",
       "      <td>10509.0</td>\n",
       "      <td>192.0</td>\n",
       "      <td>NaN</td>\n",
       "      <td>NaN</td>\n",
       "      <td>NaN</td>\n",
       "      <td>NaN</td>\n",
       "      <td>10511</td>\n",
       "      <td>122</td>\n",
       "      <td>10512.0</td>\n",
       "      <td>70.0</td>\n",
       "      <td>NaN</td>\n",
       "      <td>NaN</td>\n",
       "      <td>10510.0</td>\n",
       "      <td>0.0</td>\n",
       "      <td>2000100</td>\n",
       "    </tr>\n",
       "    <tr>\n",
       "      <th>31</th>\n",
       "      <td>0</td>\n",
       "      <td>200</td>\n",
       "      <td>VOLCANIC_ROCK</td>\n",
       "      <td>10512.0</td>\n",
       "      <td>167.0</td>\n",
       "      <td>NaN</td>\n",
       "      <td>NaN</td>\n",
       "      <td>NaN</td>\n",
       "      <td>NaN</td>\n",
       "      <td>10514</td>\n",
       "      <td>109</td>\n",
       "      <td>10515.0</td>\n",
       "      <td>58.0</td>\n",
       "      <td>NaN</td>\n",
       "      <td>NaN</td>\n",
       "      <td>10513.0</td>\n",
       "      <td>0.0</td>\n",
       "      <td>2000200</td>\n",
       "    </tr>\n",
       "    <tr>\n",
       "      <th>55</th>\n",
       "      <td>0</td>\n",
       "      <td>300</td>\n",
       "      <td>VOLCANIC_ROCK</td>\n",
       "      <td>10517.0</td>\n",
       "      <td>118.0</td>\n",
       "      <td>10516.0</td>\n",
       "      <td>68.0</td>\n",
       "      <td>NaN</td>\n",
       "      <td>NaN</td>\n",
       "      <td>10518</td>\n",
       "      <td>118</td>\n",
       "      <td>10519.0</td>\n",
       "      <td>68.0</td>\n",
       "      <td>NaN</td>\n",
       "      <td>NaN</td>\n",
       "      <td>10517.5</td>\n",
       "      <td>0.0</td>\n",
       "      <td>2000300</td>\n",
       "    </tr>\n",
       "    <tr>\n",
       "      <th>60</th>\n",
       "      <td>0</td>\n",
       "      <td>400</td>\n",
       "      <td>VOLCANIC_ROCK</td>\n",
       "      <td>10509.0</td>\n",
       "      <td>128.0</td>\n",
       "      <td>10508.0</td>\n",
       "      <td>73.0</td>\n",
       "      <td>NaN</td>\n",
       "      <td>NaN</td>\n",
       "      <td>10510</td>\n",
       "      <td>128</td>\n",
       "      <td>10511.0</td>\n",
       "      <td>73.0</td>\n",
       "      <td>NaN</td>\n",
       "      <td>NaN</td>\n",
       "      <td>10509.5</td>\n",
       "      <td>0.0</td>\n",
       "      <td>2000400</td>\n",
       "    </tr>\n",
       "    <tr>\n",
       "      <th>...</th>\n",
       "      <td>...</td>\n",
       "      <td>...</td>\n",
       "      <td>...</td>\n",
       "      <td>...</td>\n",
       "      <td>...</td>\n",
       "      <td>...</td>\n",
       "      <td>...</td>\n",
       "      <td>...</td>\n",
       "      <td>...</td>\n",
       "      <td>...</td>\n",
       "      <td>...</td>\n",
       "      <td>...</td>\n",
       "      <td>...</td>\n",
       "      <td>...</td>\n",
       "      <td>...</td>\n",
       "      <td>...</td>\n",
       "      <td>...</td>\n",
       "      <td>...</td>\n",
       "    </tr>\n",
       "    <tr>\n",
       "      <th>839936</th>\n",
       "      <td>2</td>\n",
       "      <td>999500</td>\n",
       "      <td>VOLCANIC_ROCK</td>\n",
       "      <td>10167.0</td>\n",
       "      <td>110.0</td>\n",
       "      <td>10166.0</td>\n",
       "      <td>51.0</td>\n",
       "      <td>NaN</td>\n",
       "      <td>NaN</td>\n",
       "      <td>10169</td>\n",
       "      <td>156</td>\n",
       "      <td>NaN</td>\n",
       "      <td>NaN</td>\n",
       "      <td>NaN</td>\n",
       "      <td>NaN</td>\n",
       "      <td>10168.0</td>\n",
       "      <td>0.0</td>\n",
       "      <td>4999500</td>\n",
       "    </tr>\n",
       "    <tr>\n",
       "      <th>839945</th>\n",
       "      <td>2</td>\n",
       "      <td>999600</td>\n",
       "      <td>VOLCANIC_ROCK</td>\n",
       "      <td>10166.0</td>\n",
       "      <td>161.0</td>\n",
       "      <td>NaN</td>\n",
       "      <td>NaN</td>\n",
       "      <td>NaN</td>\n",
       "      <td>NaN</td>\n",
       "      <td>10168</td>\n",
       "      <td>101</td>\n",
       "      <td>10169.0</td>\n",
       "      <td>60.0</td>\n",
       "      <td>NaN</td>\n",
       "      <td>NaN</td>\n",
       "      <td>10167.0</td>\n",
       "      <td>0.0</td>\n",
       "      <td>4999600</td>\n",
       "    </tr>\n",
       "    <tr>\n",
       "      <th>839965</th>\n",
       "      <td>2</td>\n",
       "      <td>999700</td>\n",
       "      <td>VOLCANIC_ROCK</td>\n",
       "      <td>10166.0</td>\n",
       "      <td>143.0</td>\n",
       "      <td>10165.0</td>\n",
       "      <td>51.0</td>\n",
       "      <td>NaN</td>\n",
       "      <td>NaN</td>\n",
       "      <td>10168</td>\n",
       "      <td>194</td>\n",
       "      <td>NaN</td>\n",
       "      <td>NaN</td>\n",
       "      <td>NaN</td>\n",
       "      <td>NaN</td>\n",
       "      <td>10167.0</td>\n",
       "      <td>0.0</td>\n",
       "      <td>4999700</td>\n",
       "    </tr>\n",
       "    <tr>\n",
       "      <th>839984</th>\n",
       "      <td>2</td>\n",
       "      <td>999800</td>\n",
       "      <td>VOLCANIC_ROCK</td>\n",
       "      <td>10167.0</td>\n",
       "      <td>119.0</td>\n",
       "      <td>10166.0</td>\n",
       "      <td>57.0</td>\n",
       "      <td>NaN</td>\n",
       "      <td>NaN</td>\n",
       "      <td>10168</td>\n",
       "      <td>119</td>\n",
       "      <td>10169.0</td>\n",
       "      <td>57.0</td>\n",
       "      <td>NaN</td>\n",
       "      <td>NaN</td>\n",
       "      <td>10167.5</td>\n",
       "      <td>0.0</td>\n",
       "      <td>4999800</td>\n",
       "    </tr>\n",
       "    <tr>\n",
       "      <th>839986</th>\n",
       "      <td>2</td>\n",
       "      <td>999900</td>\n",
       "      <td>VOLCANIC_ROCK</td>\n",
       "      <td>10166.0</td>\n",
       "      <td>137.0</td>\n",
       "      <td>10165.0</td>\n",
       "      <td>75.0</td>\n",
       "      <td>NaN</td>\n",
       "      <td>NaN</td>\n",
       "      <td>10167</td>\n",
       "      <td>137</td>\n",
       "      <td>10168.0</td>\n",
       "      <td>75.0</td>\n",
       "      <td>NaN</td>\n",
       "      <td>NaN</td>\n",
       "      <td>10166.5</td>\n",
       "      <td>0.0</td>\n",
       "      <td>4999900</td>\n",
       "    </tr>\n",
       "  </tbody>\n",
       "</table>\n",
       "<p>60000 rows × 18 columns</p>\n",
       "</div>"
      ],
      "text/plain": [
       "        day  timestamp        product  bid_price_1  bid_volume_1  bid_price_2  \\\n",
       "13        0          0  VOLCANIC_ROCK      10502.0         205.0          NaN   \n",
       "21        0        100  VOLCANIC_ROCK      10509.0         192.0          NaN   \n",
       "31        0        200  VOLCANIC_ROCK      10512.0         167.0          NaN   \n",
       "55        0        300  VOLCANIC_ROCK      10517.0         118.0      10516.0   \n",
       "60        0        400  VOLCANIC_ROCK      10509.0         128.0      10508.0   \n",
       "...     ...        ...            ...          ...           ...          ...   \n",
       "839936    2     999500  VOLCANIC_ROCK      10167.0         110.0      10166.0   \n",
       "839945    2     999600  VOLCANIC_ROCK      10166.0         161.0          NaN   \n",
       "839965    2     999700  VOLCANIC_ROCK      10166.0         143.0      10165.0   \n",
       "839984    2     999800  VOLCANIC_ROCK      10167.0         119.0      10166.0   \n",
       "839986    2     999900  VOLCANIC_ROCK      10166.0         137.0      10165.0   \n",
       "\n",
       "        bid_volume_2  bid_price_3  bid_volume_3  ask_price_1  ask_volume_1  \\\n",
       "13               NaN          NaN           NaN        10504           146   \n",
       "21               NaN          NaN           NaN        10511           122   \n",
       "31               NaN          NaN           NaN        10514           109   \n",
       "55              68.0          NaN           NaN        10518           118   \n",
       "60              73.0          NaN           NaN        10510           128   \n",
       "...              ...          ...           ...          ...           ...   \n",
       "839936          51.0          NaN           NaN        10169           156   \n",
       "839945           NaN          NaN           NaN        10168           101   \n",
       "839965          51.0          NaN           NaN        10168           194   \n",
       "839984          57.0          NaN           NaN        10168           119   \n",
       "839986          75.0          NaN           NaN        10167           137   \n",
       "\n",
       "        ask_price_2  ask_volume_2  ask_price_3  ask_volume_3  mid_price  \\\n",
       "13          10505.0          59.0          NaN           NaN    10503.0   \n",
       "21          10512.0          70.0          NaN           NaN    10510.0   \n",
       "31          10515.0          58.0          NaN           NaN    10513.0   \n",
       "55          10519.0          68.0          NaN           NaN    10517.5   \n",
       "60          10511.0          73.0          NaN           NaN    10509.5   \n",
       "...             ...           ...          ...           ...        ...   \n",
       "839936          NaN           NaN          NaN           NaN    10168.0   \n",
       "839945      10169.0          60.0          NaN           NaN    10167.0   \n",
       "839965          NaN           NaN          NaN           NaN    10167.0   \n",
       "839984      10169.0          57.0          NaN           NaN    10167.5   \n",
       "839986      10168.0          75.0          NaN           NaN    10166.5   \n",
       "\n",
       "        profit_and_loss    index  \n",
       "13                  0.0  2000000  \n",
       "21                  0.0  2000100  \n",
       "31                  0.0  2000200  \n",
       "55                  0.0  2000300  \n",
       "60                  0.0  2000400  \n",
       "...                 ...      ...  \n",
       "839936              0.0  4999500  \n",
       "839945              0.0  4999600  \n",
       "839965              0.0  4999700  \n",
       "839984              0.0  4999800  \n",
       "839986              0.0  4999900  \n",
       "\n",
       "[60000 rows x 18 columns]"
      ]
     },
     "execution_count": 9,
     "metadata": {},
     "output_type": "execute_result"
    }
   ],
   "source": [
    "data[Products.VOLCANIC_ROCK]"
   ]
  },
  {
   "cell_type": "markdown",
   "metadata": {},
   "source": [
    "Let's have a look at the daa visually"
   ]
  },
  {
   "cell_type": "code",
   "execution_count": 20,
   "metadata": {},
   "outputs": [
    {
     "data": {
      "image/png": "[encoded data removed]",
      "text/plain": [
       "<Figure size 1000x600 with 1 Axes>"
      ]
     },
     "metadata": {},
     "output_type": "display_data"
    }
   ],
   "source": [
    "import matplotlib.pyplot as plt\n",
    "\n",
    "fig, ax1 = plt.subplots(1, 1, figsize=(10, 6))\n",
    "for product in products:\n",
    "    ax1.plot(data[product][\"mid_price\"], label=product)\n",
    "    \n",
    "plt.legend()\n",
    "plt.grid(True)  # Optionally add a grid\n",
    "plt.show()\n"
   ]
  },
  {
   "cell_type": "markdown",
   "metadata": {},
   "source": [
    "Let's remove the underlying and look at the options"
   ]
  },
  {
   "cell_type": "code",
   "execution_count": 48,
   "metadata": {},
   "outputs": [
    {
     "data": {
      "image/png": "[encoded data removed]",
      "text/plain": [
       "<Figure size 1000x600 with 1 Axes>"
      ]
     },
     "metadata": {},
     "output_type": "display_data"
    }
   ],
   "source": [
    "import matplotlib.pyplot as plt\n",
    "\n",
    "options = [product for product in products if product != Products.VOLCANIC_ROCK]\n",
    "\n",
    "fig, ax1 = plt.subplots(1, 1, figsize=(10, 6))\n",
    "for product in options:\n",
    "    ax1.plot(data[product][\"mid_price\"], label=product)\n",
    "    \n",
    "\n",
    "plt.legend()\n",
    "plt.grid(True)  # Optionally add a grid\n",
    "plt.show()"
   ]
  },
  {
   "cell_type": "markdown",
   "metadata": {},
   "source": [
    "They all looks the same just sort of translated up or down a little"
   ]
  },
  {
   "cell_type": "code",
   "execution_count": 51,
   "metadata": {},
   "outputs": [
    {
     "data": {
      "image/png": "[encoded data removed]",
      "text/plain": [
       "<Figure size 1000x600 with 1 Axes>"
      ]
     },
     "metadata": {},
     "output_type": "display_data"
    }
   ],
   "source": [
    "import matplotlib.pyplot as plt\n",
    "\n",
    "options = [product for product in products if product != Products.VOLCANIC_ROCK]\n",
    "\n",
    "fig, ax1 = plt.subplots(1, 1, figsize=(10, 6))\n",
    "for product in options:\n",
    "    product_data = data[product]\n",
    "    d = product_data[\"mid_price\"] - product_data[\"mid_price\"].iloc[0]\n",
    "    ax1.plot(d , label=product)\n",
    "    \n",
    "plt.legend()\n",
    "plt.grid(True)  # Optionally add a grid\n",
    "plt.show()"
   ]
  },
  {
   "cell_type": "markdown",
   "metadata": {},
   "source": [
    "Overlapping the different options you can see that they all still look the same but they all look like they're scaled vertically"
   ]
  },
  {
   "cell_type": "code",
   "execution_count": 56,
   "metadata": {},
   "outputs": [
    {
     "data": {
      "image/png": "[encoded data removed]",
      "text/plain": [
       "<Figure size 1000x600 with 1 Axes>"
      ]
     },
     "metadata": {},
     "output_type": "display_data"
    }
   ],
   "source": [
    "import matplotlib.pyplot as plt\n",
    "\n",
    "fig, ax1 = plt.subplots(1, 1, figsize=(10, 6))\n",
    "for product in [Products.VOLCANIC_ROCK, Products.VOLCANIC_ROCK_VOUCHER_9500]:\n",
    "    product_data = data[product]\n",
    "    d = product_data[\"mid_price\"] - product_data[\"mid_price\"].iloc[0]\n",
    "    ax1.plot(d , label=product)\n",
    "    \n",
    "plt.legend()\n",
    "plt.grid(True)  # Optionally add a grid\n",
    "plt.show()"
   ]
  },
  {
   "cell_type": "markdown",
   "metadata": {},
   "source": [
    "difference between volanic and voucher 9500\n"
   ]
  },
  {
   "cell_type": "code",
   "execution_count": 68,
   "metadata": {},
   "outputs": [
    {
     "data": {
      "application/vnd.microsoft.datawrangler.viewer.v0+json": {
       "columns": [
        {
         "name": "timestamp",
         "rawType": "int64",
         "type": "integer"
        },
        {
         "name": "mid_price",
         "rawType": "float64",
         "type": "float"
        }
       ],
       "conversionMethod": "pd.DataFrame",
       "ref": "62a9ec5a-9df4-41fe-9091-27e8df4fb758",
       "rows": [
        [
         "0",
         null
        ],
        [
         "100",
         "9492.5"
        ],
        [
         "200",
         "9496.5"
        ],
        [
         "300",
         "9495.0"
        ],
        [
         "400",
         "9507.5"
        ],
        [
         "500",
         "9503.0"
        ],
        [
         "600",
         "9501.5"
        ],
        [
         "700",
         "9500.0"
        ],
        [
         "800",
         "9505.5"
        ],
        [
         "900",
         "9502.0"
        ],
        [
         "1000",
         "9496.0"
        ],
        [
         "1100",
         "9497.5"
        ],
        [
         "1200",
         "9495.5"
        ],
        [
         "1300",
         "9494.0"
        ],
        [
         "1400",
         "9500.0"
        ],
        [
         "1500",
         "9505.5"
        ],
        [
         "1600",
         "9499.5"
        ],
        [
         "1700",
         "9505.0"
        ],
        [
         "1800",
         "9501.5"
        ],
        [
         "1900",
         "9504.0"
        ],
        [
         "2000",
         "9500.0"
        ],
        [
         "2100",
         "9504.5"
        ],
        [
         "2200",
         "9503.0"
        ],
        [
         "2300",
         "9494.0"
        ],
        [
         "2400",
         "9505.0"
        ],
        [
         "2500",
         "9505.5"
        ],
        [
         "2600",
         "9505.0"
        ],
        [
         "2700",
         "9510.0"
        ],
        [
         "2800",
         "9492.0"
        ],
        [
         "2900",
         "9499.0"
        ],
        [
         "3000",
         "9494.5"
        ],
        [
         "3100",
         "9505.0"
        ],
        [
         "3200",
         "9494.0"
        ],
        [
         "3300",
         "9499.5"
        ],
        [
         "3400",
         "9499.0"
        ],
        [
         "3500",
         "9490.5"
        ],
        [
         "3600",
         "9504.5"
        ],
        [
         "3700",
         "9500.5"
        ],
        [
         "3800",
         "9499.5"
        ],
        [
         "3900",
         "9501.0"
        ],
        [
         "4000",
         "9505.5"
        ],
        [
         "4100",
         "9502.5"
        ],
        [
         "4200",
         "9506.5"
        ],
        [
         "4300",
         "9501.5"
        ],
        [
         "4400",
         "9505.5"
        ],
        [
         "4500",
         "9500.0"
        ],
        [
         "4600",
         "9506.5"
        ],
        [
         "4700",
         "9493.0"
        ],
        [
         "4800",
         "9493.0"
        ],
        [
         "4900",
         "9499.0"
        ]
       ],
       "shape": {
        "columns": 1,
        "rows": 60000
       }
      },
      "text/html": [
       "<div>\n",
       "<style scoped>\n",
       "    .dataframe tbody tr th:only-of-type {\n",
       "        vertical-align: middle;\n",
       "    }\n",
       "\n",
       "    .dataframe tbody tr th {\n",
       "        vertical-align: top;\n",
       "    }\n",
       "\n",
       "    .dataframe thead th {\n",
       "        text-align: right;\n",
       "    }\n",
       "</style>\n",
       "<table border=\"1\" class=\"dataframe\">\n",
       "  <thead>\n",
       "    <tr style=\"text-align: right;\">\n",
       "      <th></th>\n",
       "      <th>mid_price</th>\n",
       "    </tr>\n",
       "    <tr>\n",
       "      <th>timestamp</th>\n",
       "      <th></th>\n",
       "    </tr>\n",
       "  </thead>\n",
       "  <tbody>\n",
       "    <tr>\n",
       "      <th>0</th>\n",
       "      <td>NaN</td>\n",
       "    </tr>\n",
       "    <tr>\n",
       "      <th>100</th>\n",
       "      <td>9492.5</td>\n",
       "    </tr>\n",
       "    <tr>\n",
       "      <th>200</th>\n",
       "      <td>9496.5</td>\n",
       "    </tr>\n",
       "    <tr>\n",
       "      <th>300</th>\n",
       "      <td>9495.0</td>\n",
       "    </tr>\n",
       "    <tr>\n",
       "      <th>400</th>\n",
       "      <td>9507.5</td>\n",
       "    </tr>\n",
       "    <tr>\n",
       "      <th>...</th>\n",
       "      <td>...</td>\n",
       "    </tr>\n",
       "    <tr>\n",
       "      <th>999500</th>\n",
       "      <td>9498.5</td>\n",
       "    </tr>\n",
       "    <tr>\n",
       "      <th>999600</th>\n",
       "      <td>9500.5</td>\n",
       "    </tr>\n",
       "    <tr>\n",
       "      <th>999700</th>\n",
       "      <td>9499.5</td>\n",
       "    </tr>\n",
       "    <tr>\n",
       "      <th>999800</th>\n",
       "      <td>9499.5</td>\n",
       "    </tr>\n",
       "    <tr>\n",
       "      <th>999900</th>\n",
       "      <td>9501.0</td>\n",
       "    </tr>\n",
       "  </tbody>\n",
       "</table>\n",
       "<p>60000 rows × 1 columns</p>\n",
       "</div>"
      ],
      "text/plain": [
       "           mid_price\n",
       "timestamp           \n",
       "0                NaN\n",
       "100           9492.5\n",
       "200           9496.5\n",
       "300           9495.0\n",
       "400           9507.5\n",
       "...              ...\n",
       "999500        9498.5\n",
       "999600        9500.5\n",
       "999700        9499.5\n",
       "999800        9499.5\n",
       "999900        9501.0\n",
       "\n",
       "[60000 rows x 1 columns]"
      ]
     },
     "execution_count": 68,
     "metadata": {},
     "output_type": "execute_result"
    }
   ],
   "source": [
    "data[Products.VOLCANIC_ROCK][[\"timestamp\",\"mid_price\"]].set_index(\"timestamp\").shift(1) - data[Products.VOLCANIC_ROCK_VOUCHER_9500][[\"timestamp\",\"mid_price\"]].set_index(\"timestamp\")"
   ]
  },
  {
   "cell_type": "code",
   "execution_count": null,
   "metadata": {},
   "outputs": [],
   "source": []
  },
  {
   "cell_type": "markdown",
   "metadata": {},
   "source": [
    "# Calculate volatility of underlying"
   ]
  },
  {
   "cell_type": "code",
   "execution_count": 33,
   "metadata": {},
   "outputs": [
    {
     "name": "stderr",
     "output_type": "stream",
     "text": [
      "/tmp/ipykernel_32386/765699514.py:3: SettingWithCopyWarning: \n",
      "A value is trying to be set on a copy of a slice from a DataFrame.\n",
      "Try using .loc[row_indexer,col_indexer] = value instead\n",
      "\n",
      "See the caveats in the documentation: https://pandas.pydata.org/pandas-docs/stable/user_guide/indexing.html#returning-a-view-versus-a-copy\n",
      "  underlying_data[\"mid_price_lag_1\"] = underlying_data[\"mid_price\"].shift(1)\n"
     ]
    },
    {
     "data": {
      "application/vnd.microsoft.datawrangler.viewer.v0+json": {
       "columns": [
        {
         "name": "index",
         "rawType": "int64",
         "type": "integer"
        },
        {
         "name": "mid_price",
         "rawType": "float64",
         "type": "float"
        },
        {
         "name": "mid_price_lag_1",
         "rawType": "float64",
         "type": "float"
        }
       ],
       "conversionMethod": "pd.DataFrame",
       "ref": "d4aa3ee2-c47f-4b07-83ef-8b6ee762a96f",
       "rows": [
        [
         "13",
         "10503.0",
         null
        ],
        [
         "21",
         "10510.0",
         "10503.0"
        ],
        [
         "31",
         "10513.0",
         "10510.0"
        ],
        [
         "55",
         "10517.5",
         "10513.0"
        ],
        [
         "60",
         "10509.5",
         "10517.5"
        ],
        [
         "81",
         "10506.0",
         "10509.5"
        ],
        [
         "86",
         "10503.5",
         "10506.0"
        ],
        [
         "108",
         "10503.0",
         "10503.5"
        ],
        [
         "112",
         "10497.5",
         "10503.0"
        ],
        [
         "130",
         "10495.5",
         "10497.5"
        ],
        [
         "147",
         "10499.0",
         "10495.5"
        ],
        [
         "159",
         "10501.0",
         "10499.0"
        ],
        [
         "172",
         "10504.5",
         "10501.0"
        ],
        [
         "193",
         "10510.0",
         "10504.5"
        ],
        [
         "198",
         "10510.0",
         "10510.0"
        ],
        [
         "221",
         "10504.5",
         "10510.0"
        ],
        [
         "225",
         "10504.5",
         "10504.5"
        ],
        [
         "244",
         "10499.0",
         "10504.5"
        ],
        [
         "261",
         "10497.5",
         "10499.0"
        ],
        [
         "272",
         "10493.5",
         "10497.5"
        ],
        [
         "285",
         "10493.0",
         "10493.5"
        ],
        [
         "307",
         "10488.5",
         "10493.0"
        ],
        [
         "313",
         "10485.5",
         "10488.5"
        ],
        [
         "332",
         "10491.5",
         "10485.5"
        ],
        [
         "337",
         "10486.0",
         "10491.5"
        ],
        [
         "356",
         "10480.5",
         "10486.0"
        ],
        [
         "376",
         "10475.0",
         "10480.5"
        ],
        [
         "381",
         "10464.5",
         "10475.0"
        ],
        [
         "399",
         "10472.5",
         "10464.5"
        ],
        [
         "419",
         "10473.0",
         "10472.5"
        ],
        [
         "428",
         "10478.5",
         "10473.0"
        ],
        [
         "443",
         "10473.5",
         "10478.5"
        ],
        [
         "450",
         "10479.0",
         "10473.5"
        ],
        [
         "469",
         "10479.5",
         "10479.0"
        ],
        [
         "488",
         "10480.0",
         "10479.5"
        ],
        [
         "493",
         "10489.0",
         "10480.0"
        ],
        [
         "511",
         "10484.0",
         "10489.0"
        ],
        [
         "531",
         "10483.0",
         "10484.0"
        ],
        [
         "539",
         "10483.5",
         "10483.0"
        ],
        [
         "554",
         "10482.0",
         "10483.5"
        ],
        [
         "561",
         "10475.5",
         "10482.0"
        ],
        [
         "581",
         "10472.5",
         "10475.5"
        ],
        [
         "599",
         "10466.5",
         "10472.5"
        ],
        [
         "604",
         "10464.5",
         "10466.5"
        ],
        [
         "622",
         "10458.5",
         "10464.5"
        ],
        [
         "643",
         "10458.0",
         "10458.5"
        ],
        [
         "651",
         "10451.5",
         "10458.0"
        ],
        [
         "666",
         "10457.5",
         "10451.5"
        ],
        [
         "672",
         "10464.0",
         "10457.5"
        ],
        [
         "691",
         "10464.5",
         "10464.0"
        ]
       ],
       "shape": {
        "columns": 2,
        "rows": 60000
       }
      },
      "text/html": [
       "<div>\n",
       "<style scoped>\n",
       "    .dataframe tbody tr th:only-of-type {\n",
       "        vertical-align: middle;\n",
       "    }\n",
       "\n",
       "    .dataframe tbody tr th {\n",
       "        vertical-align: top;\n",
       "    }\n",
       "\n",
       "    .dataframe thead th {\n",
       "        text-align: right;\n",
       "    }\n",
       "</style>\n",
       "<table border=\"1\" class=\"dataframe\">\n",
       "  <thead>\n",
       "    <tr style=\"text-align: right;\">\n",
       "      <th></th>\n",
       "      <th>mid_price</th>\n",
       "      <th>mid_price_lag_1</th>\n",
       "    </tr>\n",
       "  </thead>\n",
       "  <tbody>\n",
       "    <tr>\n",
       "      <th>13</th>\n",
       "      <td>10503.0</td>\n",
       "      <td>NaN</td>\n",
       "    </tr>\n",
       "    <tr>\n",
       "      <th>21</th>\n",
       "      <td>10510.0</td>\n",
       "      <td>10503.0</td>\n",
       "    </tr>\n",
       "    <tr>\n",
       "      <th>31</th>\n",
       "      <td>10513.0</td>\n",
       "      <td>10510.0</td>\n",
       "    </tr>\n",
       "    <tr>\n",
       "      <th>55</th>\n",
       "      <td>10517.5</td>\n",
       "      <td>10513.0</td>\n",
       "    </tr>\n",
       "    <tr>\n",
       "      <th>60</th>\n",
       "      <td>10509.5</td>\n",
       "      <td>10517.5</td>\n",
       "    </tr>\n",
       "    <tr>\n",
       "      <th>...</th>\n",
       "      <td>...</td>\n",
       "      <td>...</td>\n",
       "    </tr>\n",
       "    <tr>\n",
       "      <th>839936</th>\n",
       "      <td>10168.0</td>\n",
       "      <td>10166.5</td>\n",
       "    </tr>\n",
       "    <tr>\n",
       "      <th>839945</th>\n",
       "      <td>10167.0</td>\n",
       "      <td>10168.0</td>\n",
       "    </tr>\n",
       "    <tr>\n",
       "      <th>839965</th>\n",
       "      <td>10167.0</td>\n",
       "      <td>10167.0</td>\n",
       "    </tr>\n",
       "    <tr>\n",
       "      <th>839984</th>\n",
       "      <td>10167.5</td>\n",
       "      <td>10167.0</td>\n",
       "    </tr>\n",
       "    <tr>\n",
       "      <th>839986</th>\n",
       "      <td>10166.5</td>\n",
       "      <td>10167.5</td>\n",
       "    </tr>\n",
       "  </tbody>\n",
       "</table>\n",
       "<p>60000 rows × 2 columns</p>\n",
       "</div>"
      ],
      "text/plain": [
       "        mid_price  mid_price_lag_1\n",
       "13        10503.0              NaN\n",
       "21        10510.0          10503.0\n",
       "31        10513.0          10510.0\n",
       "55        10517.5          10513.0\n",
       "60        10509.5          10517.5\n",
       "...           ...              ...\n",
       "839936    10168.0          10166.5\n",
       "839945    10167.0          10168.0\n",
       "839965    10167.0          10167.0\n",
       "839984    10167.5          10167.0\n",
       "839986    10166.5          10167.5\n",
       "\n",
       "[60000 rows x 2 columns]"
      ]
     },
     "execution_count": 33,
     "metadata": {},
     "output_type": "execute_result"
    }
   ],
   "source": [
    "underlying_data = data[Products.VOLCANIC_ROCK]\n",
    "\n",
    "underlying_data[\"mid_price_lag_1\"] = underlying_data[\"mid_price\"].shift(1)\n",
    "underlying_data[[\"mid_price\", \"mid_price_lag_1\"]]"
   ]
  },
  {
   "cell_type": "code",
   "execution_count": 38,
   "metadata": {},
   "outputs": [
    {
     "name": "stderr",
     "output_type": "stream",
     "text": [
      "/tmp/ipykernel_32386/2187223069.py:1: SettingWithCopyWarning: \n",
      "A value is trying to be set on a copy of a slice from a DataFrame.\n",
      "Try using .loc[row_indexer,col_indexer] = value instead\n",
      "\n",
      "See the caveats in the documentation: https://pandas.pydata.org/pandas-docs/stable/user_guide/indexing.html#returning-a-view-versus-a-copy\n",
      "  underlying_data[\"interday_returns\"]= (underlying_data[\"mid_price\"] / underlying_data[\"mid_price_lag_1\"]) - 1\n"
     ]
    }
   ],
   "source": [
    "underlying_data[\"interday_returns\"]= (underlying_data[\"mid_price\"] / underlying_data[\"mid_price_lag_1\"]) - 1"
   ]
  },
  {
   "cell_type": "code",
   "execution_count": 74,
   "metadata": {},
   "outputs": [
    {
     "data": {
      "text/plain": [
       "np.float64(0.004515355553948937)"
      ]
     },
     "execution_count": 74,
     "metadata": {},
     "output_type": "execute_result"
    }
   ],
   "source": [
    "import math\n",
    "\n",
    "trading_days = len(underlying_data)\n",
    "\n",
    "vol = underlying_data[\"interday_returns\"].std()\n",
    "\n",
    "annualised_vol = math.sqrt(20_000) * vol\n",
    "annualised_vol\n"
   ]
  },
  {
   "cell_type": "code",
   "execution_count": 162,
   "metadata": {},
   "outputs": [
    {
     "ename": "SyntaxError",
     "evalue": "invalid syntax. Perhaps you forgot a comma? (2657088184.py, line 19)",
     "output_type": "error",
     "traceback": [
      "  \u001b[36mCell\u001b[39m\u001b[36m \u001b[39m\u001b[32mIn[162]\u001b[39m\u001b[32m, line 19\u001b[39m\n\u001b[31m    \u001b[39m\u001b[31mhv(Products.VOLCANIC_ROCK_VOUCHER_9500)\u001b[39m\n    ^\n\u001b[31mSyntaxError\u001b[39m\u001b[31m:\u001b[39m invalid syntax. Perhaps you forgot a comma?\n"
     ]
    }
   ],
   "source": [
    "from round_3.trader import VOLCANIC_ROCK\n",
    "\n",
    "\n",
    "def hv(product):\n",
    "    underlying_data = data[product]\n",
    "\n",
    "    underlying_data[\"mid_price_lag_1\"] = underlying_data[\"mid_price\"].shift(1)\n",
    "    underlying_data[[\"mid_price\", \"mid_price_lag_1\"]]\n",
    "\n",
    "    underlying_data[\"interday_returns\"]= (underlying_data[\"mid_price\"].iloc[1:] / underlying_data[\"mid_price_lag_1\"].iloc[1:]) - 1\n",
    "    vol = underlying_data[\"interday_returns\"].std(ddof=1) * math.sqrt(60_000)\n",
    "\n",
    "    return vol\n",
    "\n",
    "(hv(Products.VOLCANIC_ROCK_VOUCHER_10500),\n",
    "hv(Products.VOLCANIC_ROCK_VOUCHER_10250),\n",
    "hv(Products.VOLCANIC_ROCK_VOUCHER_10000) ,\n",
    "hv(Products.VOLCANIC_ROCK_VOUCHER_9750) ,\n",
    "hv(Products.VOLCANIC_ROCK_VOUCHER_9500),\n",
    "hv(Products.VOLCANIC_ROCK))"
   ]
  },
  {
   "cell_type": "code",
   "execution_count": 153,
   "metadata": {},
   "outputs": [
    {
     "name": "stderr",
     "output_type": "stream",
     "text": [
      "/tmp/ipykernel_32386/1755457080.py:4: SettingWithCopyWarning: \n",
      "A value is trying to be set on a copy of a slice from a DataFrame.\n",
      "Try using .loc[row_indexer,col_indexer] = value instead\n",
      "\n",
      "See the caveats in the documentation: https://pandas.pydata.org/pandas-docs/stable/user_guide/indexing.html#returning-a-view-versus-a-copy\n",
      "  underlying_data[\"mid_price_lag_1\"] = underlying_data[\"mid_price\"].shift(1)\n",
      "/tmp/ipykernel_32386/1755457080.py:7: SettingWithCopyWarning: \n",
      "A value is trying to be set on a copy of a slice from a DataFrame.\n",
      "Try using .loc[row_indexer,col_indexer] = value instead\n",
      "\n",
      "See the caveats in the documentation: https://pandas.pydata.org/pandas-docs/stable/user_guide/indexing.html#returning-a-view-versus-a-copy\n",
      "  underlying_data[\"interday_returns\"]= (underlying_data[\"mid_price\"].iloc[1:] / underlying_data[\"mid_price_lag_1\"].iloc[1:]) - 1\n"
     ]
    },
    {
     "data": {
      "text/plain": [
       "np.float64(0.1212132556957709)"
      ]
     },
     "execution_count": 153,
     "metadata": {},
     "output_type": "execute_result"
    }
   ],
   "source": [
    "\n",
    "hv(Products.VOLCANIC_ROCK_VOUCHER_10500)"
   ]
  },
  {
   "cell_type": "code",
   "execution_count": 152,
   "metadata": {},
   "outputs": [
    {
     "name": "stderr",
     "output_type": "stream",
     "text": [
      "/tmp/ipykernel_32386/1755457080.py:4: SettingWithCopyWarning: \n",
      "A value is trying to be set on a copy of a slice from a DataFrame.\n",
      "Try using .loc[row_indexer,col_indexer] = value instead\n",
      "\n",
      "See the caveats in the documentation: https://pandas.pydata.org/pandas-docs/stable/user_guide/indexing.html#returning-a-view-versus-a-copy\n",
      "  underlying_data[\"mid_price_lag_1\"] = underlying_data[\"mid_price\"].shift(1)\n",
      "/tmp/ipykernel_32386/1755457080.py:7: SettingWithCopyWarning: \n",
      "A value is trying to be set on a copy of a slice from a DataFrame.\n",
      "Try using .loc[row_indexer,col_indexer] = value instead\n",
      "\n",
      "See the caveats in the documentation: https://pandas.pydata.org/pandas-docs/stable/user_guide/indexing.html#returning-a-view-versus-a-copy\n",
      "  underlying_data[\"interday_returns\"]= (underlying_data[\"mid_price\"].iloc[1:] / underlying_data[\"mid_price_lag_1\"].iloc[1:]) - 1\n"
     ]
    },
    {
     "data": {
      "text/plain": [
       "np.float64(0.0002844406637329328)"
      ]
     },
     "execution_count": 152,
     "metadata": {},
     "output_type": "execute_result"
    }
   ],
   "source": [
    "hv(Products.VOLCANIC_ROCK)"
   ]
  },
  {
   "cell_type": "markdown",
   "metadata": {},
   "source": [
    "Historical vol of option"
   ]
  },
  {
   "cell_type": "code",
   "execution_count": null,
   "metadata": {},
   "outputs": [],
   "source": []
  },
  {
   "cell_type": "markdown",
   "metadata": {},
   "source": []
  },
  {
   "cell_type": "markdown",
   "metadata": {},
   "source": [
    "# Testing implied volatility"
   ]
  },
  {
   "cell_type": "code",
   "execution_count": 117,
   "metadata": {},
   "outputs": [],
   "source": [
    "from statistics import NormalDist\n",
    "import numpy as np\n",
    "\n",
    "normalDist = NormalDist(0, 1)\n",
    "\n",
    "def cal_tau(day, timestep, T=7) -> float:\n",
    "    \"\"\"Calculate time to maturity\n",
    "\n",
    "    Args:\n",
    "        day: Current day\n",
    "        timestep: Current timestep\n",
    "        T: Time to maturity.\n",
    "\n",
    "    Returns:\n",
    "        _type_: _description_\n",
    "    \"\"\"\n",
    "    return T - ((day - 1) * 750_000 + timestep) * 2e-7\n",
    "\n",
    "\n",
    "def cal_call(\n",
    "    S: int, tau: float, K, sigma: float = 0.16, r: float = 0.0\n",
    ") -> tuple[float, float]:\n",
    "    \"\"\"Calculate option price\n",
    "\n",
    "    Args:\n",
    "        S (int): current stock price.\n",
    "        tau (int): time to maturity.\n",
    "        sigma (float): volatility of the underlying asset.\n",
    "        r (float): Risk-free interest rate. Defaults to 0.\n",
    "        K (int): Strike price\n",
    "    Returns:\n",
    "        Call price and delta\n",
    "    \"\"\"\n",
    "    d1 = (np.log(S / K) + (r + 0.5 * sigma**2) * tau) / (sigma * math.sqrt(tau))\n",
    "    delta = normalDist.cdf(d1)\n",
    "    d2 = d1 - sigma * np.sqrt(tau)\n",
    "    call_price = S * delta - K * math.exp(-r * tau) * normalDist.cdf(d2)\n",
    "    return call_price, delta\n",
    "\n",
    "\n",
    "def calculate_implied_volatility(\n",
    "    market_price, S, tau, r=0, K=10000, tol=1e-6, max_iter=100\n",
    "):\n",
    "    sigma = 0.16\n",
    "    diff = cal_call(S, tau, sigma)[0] - market_price\n",
    "\n",
    "    iter_count = 0\n",
    "    while np.any(np.abs(diff) > tol) and iter_count < max_iter:\n",
    "        vega = (cal_call(S, tau, sigma + tol)[0] - cal_call(S, tau, sigma)[0]) / tol\n",
    "        sigma -= diff / vega\n",
    "        diff = cal_call(S, tau, sigma)[0] - market_price\n",
    "        iter_count += 1\n",
    "\n",
    "    return sigma\n"
   ]
  },
  {
   "cell_type": "code",
   "execution_count": 104,
   "metadata": {},
   "outputs": [
    {
     "data": {
      "text/plain": [
       "np.float64(10503.0)"
      ]
     },
     "execution_count": 104,
     "metadata": {},
     "output_type": "execute_result"
    }
   ],
   "source": [
    "underlying_data =data[Products.VOLCANIC_ROCK]\n",
    "underlying_prc = underlying_data[underlying_data[\"timestamp\"]==0][\"mid_price\"].iloc[0]\n",
    "\n",
    "underlying_prc"
   ]
  },
  {
   "cell_type": "code",
   "execution_count": 108,
   "metadata": {},
   "outputs": [
    {
     "data": {
      "text/plain": [
       "np.float64(99.5)"
      ]
     },
     "execution_count": 108,
     "metadata": {},
     "output_type": "execute_result"
    }
   ],
   "source": [
    "option_data =data[Products.VOLCANIC_ROCK_VOUCHER_10500]\n",
    "option_prc = option_data[option_data[\"timestamp\"]==0][\"mid_price\"].iloc[0]\n",
    "\n",
    "option_prc"
   ]
  },
  {
   "cell_type": "code",
   "execution_count": 134,
   "metadata": {},
   "outputs": [
    {
     "data": {
      "text/plain": [
       "np.float64(21331.458069434328)"
      ]
     },
     "execution_count": 134,
     "metadata": {},
     "output_type": "execute_result"
    }
   ],
   "source": [
    "T = 7\n",
    "day = 3\n",
    "timestep = 1_112_500\n",
    "\n",
    "tau = T - ((day - 1) * 750_000 + timestep) * 2e-7\n",
    "theo, delta = cal_call(\n",
    "    underlying_prc, tau, K=10_500, sigma=np.float64(0.7844406637329328)\n",
    ")\n",
    "\n",
    "iv = calculate_implied_volatility(\n",
    "    option_prc, underlying_prc, tau, K=10_500\n",
    ")\n",
    "\n",
    "iv"
   ]
  },
  {
   "cell_type": "markdown",
   "metadata": {},
   "source": []
  },
  {
   "cell_type": "code",
   "execution_count": 136,
   "metadata": {},
   "outputs": [
    {
     "data": {
      "text/plain": [
       "21331.458069434328"
      ]
     },
     "execution_count": 136,
     "metadata": {},
     "output_type": "execute_result"
    }
   ],
   "source": [
    "\n",
    "T = 7\n",
    "day = 3\n",
    "timestep = 1_112_500\n",
    "\n",
    "tau = T - ((day - 1) * 750_000 + timestep) * 2e-7\n",
    "\n",
    "calculate_implied_volatility(99.5, 10503.0, tau=tau, K=10_500)"
   ]
  },
  {
   "cell_type": "code",
   "execution_count": null,
   "metadata": {},
   "outputs": [],
   "source": []
  },
  {
   "cell_type": "code",
   "execution_count": null,
   "metadata": {},
   "outputs": [],
   "source": []
  }
 ],
 "metadata": {
  "kernelspec": {
   "display_name": ".venv",
   "language": "python",
   "name": "python3"
  },
  "language_info": {
   "codemirror_mode": {
    "name": "ipython",
    "version": 3
   },
   "file_extension": ".py",
   "mimetype": "text/x-python",
   "name": "python",
   "nbconvert_exporter": "python",
   "pygments_lexer": "ipython3",
   "version": "3.12.9"
  }
 },
 "nbformat": 4,
 "nbformat_minor": 2
}
