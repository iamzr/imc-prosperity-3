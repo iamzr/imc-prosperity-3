{
 "cells": [
  {
   "cell_type": "code",
   "execution_count": 1,
   "metadata": {},
   "outputs": [],
   "source": [
    "# Manual Round 3"
   ]
  },
  {
   "cell_type": "markdown",
   "metadata": {},
   "source": [
    "Formula for scale factor"
   ]
  },
  {
   "cell_type": "code",
   "execution_count": 7,
   "metadata": {},
   "outputs": [],
   "source": [
    "def p(avg_bid, your_bid):\n",
    "    return ((320 - avg_bid) / (320 - your_bid)) **3"
   ]
  },
  {
   "cell_type": "markdown",
   "metadata": {},
   "source": [
    "Let's test some what if scenarios "
   ]
  },
  {
   "cell_type": "code",
   "execution_count": 5,
   "metadata": {},
   "outputs": [
    {
     "data": {
      "text/plain": [
       "0.7290000000000001"
      ]
     },
     "execution_count": 5,
     "metadata": {},
     "output_type": "execute_result"
    }
   ],
   "source": [
    "p(avg_bid=275, your_bid=270)"
   ]
  },
  {
   "cell_type": "code",
   "execution_count": 6,
   "metadata": {},
   "outputs": [
    {
     "data": {
      "text/plain": [
       "1.1461254983837903"
      ]
     },
     "execution_count": 6,
     "metadata": {},
     "output_type": "execute_result"
    }
   ],
   "source": [
    "p(avg_bid=275, your_bid=277)"
   ]
  },
  {
   "cell_type": "markdown",
   "metadata": {},
   "source": [
    "Let's look at a graph to see my bid against different averages"
   ]
  },
  {
   "cell_type": "code",
   "execution_count": null,
   "metadata": {},
   "outputs": [],
   "source": [
    "import numpy as np\n",
    "import matplotlib.pyplot as plt\n",
    "\n",
    "# Parameters\n",
    "my_bids = np.arange(260, 291, 1)  # Your potential second bids from 260 to 290\n",
    "avg_bids = np.arange(260, 291, 1)  # Simulated average second bids from 260 to 290\n",
    "\n",
    "# Create a matrix to store profits\n",
    "profits = np.zeros((len(my_bids), len(avg_bids)))\n",
    "\n",
    "# Calculate scaled profit for each combination\n",
    "for i, my_bid in enumerate(my_bids):\n",
    "    for j, avg_bid in enumerate(avg_bids):\n",
    "        if my_bid >= avg_bid:\n",
    "            profit = 320 - my_bid\n",
    "        else:\n",
    "            # Apply penalty formula\n",
    "            p = ((320 - avg_bid) / (320 - my_bid)) ** 3\n",
    "            profit = (320 - my_bid) * p\n",
    "        profits[i, j] = profit\n",
    "\n",
    "# Plotting\n",
    "fig, ax = plt.subplots(figsize=(10, 6))\n",
    "c = ax.contourf(avg_bids, my_bids, profits, levels=50, cmap=\"viridis\")\n",
    "plt.colorbar(c, label=\"Expected Profit per Flipper\")\n",
    "ax.set_xlabel(\"Average Second Bid\")\n",
    "ax.set_ylabel(\"Your Second Bid\")\n",
    "ax.set_title(\"Profit per Flipper vs. Average and Your Second Bid\")\n",
    "plt.grid(True)\n",
    "plt.tight_layout()\n",
    "plt.show()"
   ]
  },
  {
   "cell_type": "code",
   "execution_count": null,
   "metadata": {},
   "outputs": [],
   "source": [
    "True"
   ]
  }
 ],
 "metadata": {
  "kernelspec": {
   "display_name": ".venv",
   "language": "python",
   "name": "python3"
  },
  "language_info": {
   "codemirror_mode": {
    "name": "ipython",
    "version": 3
   },
   "file_extension": ".py",
   "mimetype": "text/x-python",
   "name": "python",
   "nbconvert_exporter": "python",
   "pygments_lexer": "ipython3",
   "version": "3.12.9"
  }
 },
 "nbformat": 4,
 "nbformat_minor": 2
}
