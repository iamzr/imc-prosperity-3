{
 "cells": [
  {
   "cell_type": "code",
   "execution_count": 1,
   "id": "d0426300",
   "metadata": {},
   "outputs": [],
   "source": [
    "import numpy as np\n",
    "import matplotlib.pyplot as plt\n",
    "import pandas as pd"
   ]
  },
  {
   "cell_type": "code",
   "execution_count": 2,
   "id": "3f35d388",
   "metadata": {},
   "outputs": [],
   "source": [
    "def calculate_realized_volatility_per_second_100ms(price_data):\n",
    "    \"\"\"\n",
    "    Calculates the realized volatility per second from 100ms frequency price data.\n",
    "\n",
    "    Args:\n",
    "        price_data (pd.Series or pd.DataFrame): A pandas Series or DataFrame\n",
    "            containing the 100ms frequency price data. If it's a DataFrame, it\n",
    "            should have a column named 'Price' or a single column of prices. The\n",
    "            index should be datetime.\n",
    "\n",
    "    Returns:\n",
    "        float: The realized volatility per second based on the input data.\n",
    "    \"\"\"\n",
    "    if isinstance(price_data, pd.DataFrame):\n",
    "        if 'mid_price' in price_data.columns:\n",
    "            prices = price_data['mid_price']\n",
    "        elif len(price_data.columns) == 1:\n",
    "            prices = price_data.iloc[:, 0]\n",
    "        else:\n",
    "            raise ValueError(\"DataFrame must have a 'mid_price' column or a single column of prices.\")\n",
    "    elif isinstance(price_data, pd.Series):\n",
    "        prices = price_data\n",
    "    else:\n",
    "        raise ValueError(\"price_data must be a pandas Series or DataFrame.\")\n",
    "\n",
    "    # Calculate high-frequency logarithmic returns\n",
    "    log_returns = np.log(prices / prices.shift(1)).dropna()\n",
    "\n",
    "    # Calculate realized variance per second\n",
    "    periods_per_second = 10  # 100ms frequency\n",
    "    realized_variance = np.sum(log_returns**2) / len(log_returns) * periods_per_second\n",
    "\n",
    "    # Calculate realized volatility per second\n",
    "    realized_volatility = np.sqrt(realized_variance)\n",
    "\n",
    "    return realized_volatility"
   ]
  },
  {
   "cell_type": "code",
   "execution_count": 3,
   "id": "774b05c2",
   "metadata": {},
   "outputs": [
    {
     "name": "stdout",
     "output_type": "stream",
     "text": [
      "   index  day  timestamp           product  bid_price_1  bid_volume_1  \\\n",
      "0      0   -2          0  RAINFOREST_RESIN         9996             1   \n",
      "1      1   -2          0              KELP         1998            26   \n",
      "2      2   -2          0         SQUID_INK         1998            26   \n",
      "3      3   -2        100         SQUID_INK         1999             5   \n",
      "4      4   -2        100  RAINFOREST_RESIN        10000             5   \n",
      "\n",
      "   bid_price_2  bid_volume_2  bid_price_3  bid_volume_3  ask_price_1  \\\n",
      "0       9995.0          25.0          NaN           NaN        10004   \n",
      "1          NaN           NaN          NaN           NaN         2002   \n",
      "2          NaN           NaN          NaN           NaN         2002   \n",
      "3       1998.0          26.0          NaN           NaN         2001   \n",
      "4       9995.0          20.0          NaN           NaN        10005   \n",
      "\n",
      "   ask_volume_1  ask_price_2  ask_volume_2  ask_price_3  ask_volume_3  \\\n",
      "0             1      10005.0          25.0          NaN           NaN   \n",
      "1            26          NaN           NaN          NaN           NaN   \n",
      "2            26          NaN           NaN          NaN           NaN   \n",
      "3            20          NaN           NaN          NaN           NaN   \n",
      "4            20          NaN           NaN          NaN           NaN   \n",
      "\n",
      "   mid_price  profit_and_loss  \n",
      "0    10000.0              0.0  \n",
      "1     2000.0              0.0  \n",
      "2     2000.0              0.0  \n",
      "3     2000.0              0.0  \n",
      "4    10002.5              0.0  \n"
     ]
    }
   ],
   "source": [
    "day_m2 = pd.read_csv('data/prices_round_1_day_-2.csv', delimiter=\";\")\n",
    "day_m1 = pd.read_csv('data/prices_round_1_day_-1.csv', delimiter=\";\")\n",
    "day_0 = pd.read_csv('data/prices_round_1_day_0.csv', delimiter=\";\")\n",
    "\n",
    "df = pd.concat([day_m2, day_m1, day_0]).reset_index()\n",
    "print(df.head())"
   ]
  },
  {
   "cell_type": "code",
   "execution_count": 4,
   "id": "43a866a6",
   "metadata": {},
   "outputs": [
    {
     "name": "stdout",
     "output_type": "stream",
     "text": [
      "Realized Volatility per Second: 0.0012\n"
     ]
    }
   ],
   "source": [
    "kelp = df[df['product'] == 'KELP']\n",
    "\n",
    "realized_vol_100ms = calculate_realized_volatility_per_second_100ms(kelp['mid_price'])\n",
    "print(f\"Realized Volatility per Second: {realized_vol_100ms:.4f}\")"
   ]
  }
 ],
 "metadata": {
  "kernelspec": {
   "display_name": "py312",
   "language": "python",
   "name": "python3"
  },
  "language_info": {
   "codemirror_mode": {
    "name": "ipython",
    "version": 3
   },
   "file_extension": ".py",
   "mimetype": "text/x-python",
   "name": "python",
   "nbconvert_exporter": "python",
   "pygments_lexer": "ipython3",
   "version": "3.12.9"
  }
 },
 "nbformat": 4,
 "nbformat_minor": 5
}
